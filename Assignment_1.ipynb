{
 "cells": [
  {
   "cell_type": "code",
   "execution_count": 11,
   "id": "2809dac9-a653-4778-955c-8846cfb5d50e",
   "metadata": {},
   "outputs": [
    {
     "name": "stdin",
     "output_type": "stream",
     "text": [
      "Enter a number: 7\n"
     ]
    },
    {
     "name": "stdout",
     "output_type": "stream",
     "text": [
      "0\n",
      "1\n",
      "1\n",
      "2\n",
      "3\n",
      "5\n",
      "8\n"
     ]
    }
   ],
   "source": [
    "#Q1\n",
    "def fibonacci (n):\n",
    "    if n==0 or n==1:\n",
    "        return n \n",
    "    else : \n",
    "        return fibonacci(n-1)+fibonacci(n-2)\n",
    "    \n",
    "n=int(input('Enter a number:'))\n",
    "for i in range(n):    \n",
    "    print(fibonacci(i))"
   ]
  },
  {
   "cell_type": "code",
   "execution_count": 23,
   "id": "0fb19bd2-979f-4e00-b4ad-af193f583ba2",
   "metadata": {},
   "outputs": [
    {
     "name": "stdin",
     "output_type": "stream",
     "text": [
      "Enter a string:  Hello world\n"
     ]
    },
    {
     "name": "stdout",
     "output_type": "stream",
     "text": [
      " world Hello \n"
     ]
    },
    {
     "name": "stdin",
     "output_type": "stream",
     "text": [
      "Enter a string:  May the fourth be with you\n"
     ]
    },
    {
     "name": "stdout",
     "output_type": "stream",
     "text": [
      " you with be fourth the May \n"
     ]
    }
   ],
   "source": [
    "#Q2\n",
    "def revers(str1):\n",
    "    str2=' ' \n",
    "    list1=str1.split(' ')\n",
    "    len1=len(list1)\n",
    "    list2=[0]*len1\n",
    "    j=0\n",
    "    for i in range(len1-1,-1,-1):\n",
    "        list2[j]=list1[i]\n",
    "        j+=1\n",
    "    for i in list2:\n",
    "        str2+=i+' '\n",
    "    return str2\n",
    "\n",
    "\n",
    "\n",
    "str1=input('Enter a string: ')\n",
    "result=revers(str1)\n",
    "print(result)\n",
    "str1=input('Enter a string: ')\n",
    "result=revers(str1)\n",
    "print(result)         "
   ]
  },
  {
   "cell_type": "code",
   "execution_count": 36,
   "id": "de6b9929-e391-403b-b1f3-76a54d7fc2f5",
   "metadata": {},
   "outputs": [
    {
     "name": "stdin",
     "output_type": "stream",
     "text": [
      "Enter a number:  11\n"
     ]
    },
    {
     "name": "stdout",
     "output_type": "stream",
     "text": [
      "11 is a prime number\n"
     ]
    }
   ],
   "source": [
    "#Q3\n",
    "def primeNumberDetector (n):\n",
    "    x=True\n",
    "    \n",
    "    if n<=1:\n",
    "        x=False        \n",
    "    else:\n",
    "        for i in range (2,n):\n",
    "            if (n%i)==0:\n",
    "                x=False\n",
    "                \n",
    "    if x==True:\n",
    "        print(n,'is a prime number')\n",
    "    else:\n",
    "        print(n, 'is not a prime number')\n",
    "        \n",
    "\n",
    "n=int(input('Enter a number: '))\n",
    "primeNumberDetector(n)\n",
    "                \n",
    "                "
   ]
  },
  {
   "cell_type": "code",
   "execution_count": 45,
   "id": "d0b9463f-f45a-40d3-8d82-1d228de7b688",
   "metadata": {},
   "outputs": [
    {
     "name": "stdin",
     "output_type": "stream",
     "text": [
      " 121\n"
     ]
    },
    {
     "name": "stdout",
     "output_type": "stream",
     "text": [
      "True\n"
     ]
    },
    {
     "name": "stdin",
     "output_type": "stream",
     "text": [
      " -121\n"
     ]
    },
    {
     "name": "stdout",
     "output_type": "stream",
     "text": [
      "False\n"
     ]
    },
    {
     "name": "stdin",
     "output_type": "stream",
     "text": [
      " 10\n"
     ]
    },
    {
     "name": "stdout",
     "output_type": "stream",
     "text": [
      "False\n"
     ]
    }
   ],
   "source": [
    "#Q4\n",
    "def palindrome (n):    \n",
    "    s=str(n)\n",
    "    lenOfStr=len(s)    \n",
    "    count=0\n",
    "    j=-1\n",
    "    for i in range (lenOfStr):\n",
    "        if s[i]==s[j]:\n",
    "            j+=-1\n",
    "            count+=1\n",
    "        else:\n",
    "            break\n",
    "    if count==lenOfStr:\n",
    "        return True\n",
    "    else:\n",
    "        return False\n",
    "\n",
    "    \n",
    "x=int(input())\n",
    "print(palindrome(x))\n",
    "x=int(input())\n",
    "print(palindrome(x))\n",
    "x=int(input())\n",
    "print(palindrome(x))"
   ]
  }
 ],
 "metadata": {
  "kernelspec": {
   "display_name": "Python 3 (ipykernel)",
   "language": "python",
   "name": "python3"
  },
  "language_info": {
   "codemirror_mode": {
    "name": "ipython",
    "version": 3
   },
   "file_extension": ".py",
   "mimetype": "text/x-python",
   "name": "python",
   "nbconvert_exporter": "python",
   "pygments_lexer": "ipython3",
   "version": "3.9.13"
  }
 },
 "nbformat": 4,
 "nbformat_minor": 5
}
